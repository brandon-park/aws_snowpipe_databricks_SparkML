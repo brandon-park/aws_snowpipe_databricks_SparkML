{
 "cells": [
  {
   "cell_type": "code",
   "execution_count": 0,
   "metadata": {
    "application/vnd.databricks.v1+cell": {
     "inputWidgets": {},
     "nuid": "3ad04d2c-0d24-4158-84e7-3de12908adbd",
     "showTitle": false,
     "title": ""
    }
   },
   "outputs": [],
   "source": []
  },
  {
   "cell_type": "markdown",
   "metadata": {
    "application/vnd.databricks.v1+cell": {
     "inputWidgets": {},
     "nuid": "58f27c7b-47a6-4daa-b89d-b7f737a867aa",
     "showTitle": false,
     "title": ""
    }
   },
   "source": [
    "# <center> Streaming Data Analysis \n",
    "# <center> With AWS S3, Snowflake, Databricks, and SparkMLlib"
   ]
  },
  {
   "cell_type": "markdown",
   "metadata": {
    "application/vnd.databricks.v1+cell": {
     "inputWidgets": {},
     "nuid": "e2560e91-2c2f-4f8e-a615-95e93754a943",
     "showTitle": false,
     "title": ""
    }
   },
   "source": [
    "<center> <img src=\"https://github.com/brandon-park/aws_snowpipe_databricks_SparkML/blob/main/architecture.PNG?raw=true\" width=\"100%\"/>"
   ]
  },
  {
   "cell_type": "markdown",
   "metadata": {
    "application/vnd.databricks.v1+cell": {
     "inputWidgets": {},
     "nuid": "d79c1b4e-1b60-455f-b124-ee38e3a86fac",
     "showTitle": false,
     "title": ""
    }
   },
   "source": [
    "## TOC:\n",
    "\n",
    "1. [Introduction](#Introduction)\n",
    "2. [Snowpipe configuration for streaming data](#snowpipe)\n",
    "3. [Import data to Databricks](#import)\n",
    "4. [Preprocessing](#prep)\n",
    "5. [Modeling, Prediction, and Evaluation](#model)"
   ]
  },
  {
   "cell_type": "markdown",
   "metadata": {
    "application/vnd.databricks.v1+cell": {
     "inputWidgets": {},
     "nuid": "2606bda3-43b7-438b-b769-3ee912efff2d",
     "showTitle": false,
     "title": ""
    }
   },
   "source": [
    "## Introduction <a name=\"Introduction\"></a>\n",
    "\n",
    "### Streaming data into data wareshouse\n",
    "\n",
    "In this project, we assume that the streaming data is being created and stored in AWS S3. Once S3 bucket has a new file, then it will send the notification to Snowpipe. Snowpipe is Snowflake's severless function that automatically detects the data and append to the existing table. \n",
    "To leverage parallel processing, we will connect the table in Snowflake to Spark Dataframe in Databricks. Lastly, Spark MLlib is used to predict the label. \n",
    "\n",
    "_disclaimer:\n",
    "    The goal of this notebook is to showcase the data pipeline for streaming data. Hyper parameters used in each model are not optimized and hence the best model / performance are not literally 'the best' for this toy dataset._"
   ]
  },
  {
   "cell_type": "markdown",
   "metadata": {
    "application/vnd.databricks.v1+cell": {
     "inputWidgets": {},
     "nuid": "2754b75a-3676-4041-8cb1-bfa711210453",
     "showTitle": false,
     "title": ""
    }
   },
   "source": [
    "## Snowpipe configuration for streaming data <a name=\"snowpipe\"></a>"
   ]
  },
  {
   "cell_type": "code",
   "execution_count": 0,
   "metadata": {
    "application/vnd.databricks.v1+cell": {
     "inputWidgets": {},
     "nuid": "8a0b544e-9af6-4317-8f2c-86665c20fe77",
     "showTitle": false,
     "title": ""
    }
   },
   "outputs": [],
   "source": [
    "%sql\n",
    "\n",
    "// Below SQL query is to be run in Snowflake\n",
    "\n",
    "create or replace storage integration s3_snowpipe\n",
    "  TYPE = EXTERNAL_STAGE\n",
    "  STORAGE_PROVIDER = S3\n",
    "  ENABLED = TRUE \n",
    "  STORAGE_AWS_ROLE_ARN = 'arn:aws:iam::919247622774:role/brandon_snowpipe'\n",
    "  STORAGE_ALLOWED_LOCATIONS = ('s3://wdbc/');\n",
    "  \n",
    "  \n",
    "     \n",
    "// See storage integration properties to fetch external_id so we can update it in S3\n",
    "DESC integration s3_snowpipe;\n",
    "\n",
    "\n",
    "CREATE OR REPLACE TABLE PROJECT_DB.PROJECT_TABLES.wdbc (\n",
    " num INT,\n",
    "  id INT,\t\n",
    "  diagnosis INT,\t\n",
    "  mean_radius INT,\t\n",
    "  mean_texture INT,\t\n",
    "  mean_perimeter INT,\t\n",
    "  mean_area INT,\t\n",
    "  mean_smoothness INT,\t\n",
    "  mean_compactness INT,\t\n",
    "  mean_concavity INT,\t\n",
    "  mean_concave_points INT,\t\n",
    "  mean_symmetry INT,\t\n",
    "  mean_fractal_dimension INT,\t\n",
    "  se_radius\t INT,\n",
    "  se_texture INT,\t\n",
    "  se_perimeter INT,\t\n",
    "  se_area INT,\t\n",
    "  se_smoothness INT,\t\n",
    "  se_compactness INT,\t\n",
    "  se_concavity INT,\t\n",
    "  se_concave_points INT,\t\n",
    "  se_symmetry INT,\t\n",
    "  se_fractal_dimension INT,\t\n",
    "  largest_radius INT,\t\n",
    "  largest_texture INT,\t\n",
    "  largest_perimeter INT,\t\n",
    "  largest_area INT,\t\n",
    "  largest_smoothness INT,\t\n",
    "  largest_compactness INT,\t\n",
    "  largest_concavity\t INT,\n",
    "  largest_concave_points INT,\t\n",
    "  largest_symmetry\t INT,\n",
    "  largest_fractal_dimension INT);\n",
    "\n",
    "\n",
    "// Create file format object\n",
    "CREATE OR REPLACE file format PROJECT_DB.file_formats.csv_fileformat\n",
    "    type = csv\n",
    "    field_delimiter = ','\n",
    "    skip_header = 1\n",
    "    null_if = ('NULL','null')\n",
    "    empty_field_as_null = TRUE;\n",
    "    \n",
    "    \n",
    " // Create stage object with integration object & file format object\n",
    "CREATE OR REPLACE stage PROJECT_DB.AWS_stages.wdbc_folder\n",
    "    URL = 's3://wdbc/'\n",
    "    STORAGE_INTEGRATION = s3_snowpipe\n",
    "    FILE_FORMAT = PROJECT_DB.file_formats.csv_fileformat;\n",
    "   \n",
    "\n",
    " // Create stage object with integration object & file format object\n",
    "LIST @PROJECT_DB.AWS_stages.wdbc_folder;\n",
    "\n",
    "\n",
    "// Create schema to keep things organized\n",
    "CREATE OR REPLACE SCHEMA PROJECT_DB.pipes;\n",
    "\n",
    "// Define pipe\n",
    "CREATE OR REPLACE pipe PROJECT_DB.pipes.wdbc_pipe \n",
    "auto_ingest = TRUE\n",
    "AS\n",
    "COPY INTO PROJECT_DB.PROJECT_TABLES.wdbc\n",
    "FROM @PROJECT_DB.AWS_stages.wdbc_folder\n",
    "file_format= PROJECT_DB.file_formats.csv_fileformat;\n",
    "\n",
    "// Describe pipe\n",
    "DESC pipe wdbc_pipe;\n",
    "\n",
    "SELECT * FROM PROJECT_DB.PROJECT_TABLES.wdbc;\n"
   ]
  },
  {
   "cell_type": "markdown",
   "metadata": {
    "application/vnd.databricks.v1+cell": {
     "inputWidgets": {},
     "nuid": "3942e1d3-2bbd-432e-8433-2d025e5fb73a",
     "showTitle": false,
     "title": ""
    }
   },
   "source": [
    "## Import data to Databricks <a name=\"import\"></a>"
   ]
  },
  {
   "cell_type": "code",
   "execution_count": 0,
   "metadata": {
    "application/vnd.databricks.v1+cell": {
     "inputWidgets": {},
     "nuid": "5997aa8d-dedd-452e-92e7-2d6f9c559e52",
     "showTitle": false,
     "title": ""
    }
   },
   "outputs": [],
   "source": [
    "\n",
    "\n",
    "from pyspark.ml import Pipeline\n",
    "from pyspark.ml.classification import GBTClassifier\n",
    "from pyspark.ml.feature import VectorIndexer, VectorAssembler\n",
    "from pyspark.ml.evaluation import MulticlassClassificationEvaluator\n",
    "\n",
    "import matplotlib.pyplot as plt\n",
    "import pandas as pd "
   ]
  },
  {
   "cell_type": "code",
   "execution_count": 0,
   "metadata": {
    "application/vnd.databricks.v1+cell": {
     "inputWidgets": {},
     "nuid": "226b210d-db85-4b15-bc9d-5a31f4b3f7ad",
     "showTitle": false,
     "title": ""
    }
   },
   "outputs": [],
   "source": [
    "# snowflake connection options\n",
    "options = {\n",
    "  \"sfUrl\": \"fs90326.us-east-2.aws.snowflakecomputing.com\",\n",
    "  \"sfUser\": user,\n",
    "  \"sfPassword\": password,\n",
    "  \"sfDatabase\": \"PROJECT_DB\",\n",
    "  \"sfSchema\": \"PROJECT_TABLES\",\n",
    "  \"sfWarehouse\": \"COMPUTE_WH\"\n",
    "}"
   ]
  },
  {
   "cell_type": "code",
   "execution_count": 0,
   "metadata": {
    "application/vnd.databricks.v1+cell": {
     "inputWidgets": {},
     "nuid": "5715064f-61e4-4e8c-9799-e71f2b035cd9",
     "showTitle": false,
     "title": ""
    }
   },
   "outputs": [
    {
     "data": {
      "text/plain": [
       "+---+------+---------+-----------+------------+--------------+---------+---------------+----------------+--------------+-------------------+-------------+----------------------+---------+----------+------------+-------+-------------+--------------+------------+-----------------+-----------+--------------------+--------------+---------------+-----------------+------------+------------------+-------------------+-----------------+----------------------+----------------+-------------------------+\n",
       "|NUM|    ID|DIAGNOSIS|MEAN_RADIUS|MEAN_TEXTURE|MEAN_PERIMETER|MEAN_AREA|MEAN_SMOOTHNESS|MEAN_COMPACTNESS|MEAN_CONCAVITY|MEAN_CONCAVE_POINTS|MEAN_SYMMETRY|MEAN_FRACTAL_DIMENSION|SE_RADIUS|SE_TEXTURE|SE_PERIMETER|SE_AREA|SE_SMOOTHNESS|SE_COMPACTNESS|SE_CONCAVITY|SE_CONCAVE_POINTS|SE_SYMMETRY|SE_FRACTAL_DIMENSION|LARGEST_RADIUS|LARGEST_TEXTURE|LARGEST_PERIMETER|LARGEST_AREA|LARGEST_SMOOTHNESS|LARGEST_COMPACTNESS|LARGEST_CONCAVITY|LARGEST_CONCAVE_POINTS|LARGEST_SYMMETRY|LARGEST_FRACTAL_DIMENSION|\n",
       "+---+------+---------+-----------+------------+--------------+---------+---------------+----------------+--------------+-------------------+-------------+----------------------+---------+----------+------------+-------+-------------+--------------+------------+-----------------+-----------+--------------------+--------------+---------------+-----------------+------------+------------------+-------------------+-----------------+----------------------+----------------+-------------------------+\n",
       "|200|877501|        0|         12|          20|            79|      461|              0|               0|             0|                  0|            0|                     0|        0|         1|           2|     27|            0|             0|           0|                0|          0|                   0|            14|             28|               92|         638|                 0|                  0|                0|                     0|               0|                        0|\n",
       "|201|877989|        1|         18|          19|           115|      952|              0|               0|             0|                  0|            0|                     0|        0|         1|           3|     41|            0|             0|           0|                0|          0|                   0|            20|             26|              140|        1239|                 0|                  0|                0|                     0|               0|                        0|\n",
       "|202|878796|        1|         23|          27|           159|     1685|              0|               0|             0|                  0|            0|                     0|        1|         2|           5|     83|            0|             0|           0|                0|          0|                   0|            25|             33|              177|        1986|                 0|                  0|                1|                     0|               0|                        0|\n",
       "|203| 87880|        1|         14|          24|            92|      598|              0|               0|             0|                  0|            0|                     0|        1|         2|           4|     53|            0|             0|           0|                0|          0|                   0|            19|             42|              129|        1153|                 0|                  1|                0|                     0|               0|                        0|\n",
       "|204| 87930|        0|         12|          19|            81|      482|              0|               0|             0|                  0|            0|                     0|        0|         1|           2|     30|            0|             0|           0|                0|          0|                   0|            15|             25|               96|         678|                 0|                  0|                0|                     0|               0|                        0|\n",
       "+---+------+---------+-----------+------------+--------------+---------+---------------+----------------+--------------+-------------------+-------------+----------------------+---------+----------+------------+-------+-------------+--------------+------------+-----------------+-----------+--------------------+--------------+---------------+-----------------+------------+------------------+-------------------+-----------------+----------------------+----------------+-------------------------+\n",
       "only showing top 5 rows\n",
       "\n"
      ]
     },
     "metadata": {
      "application/vnd.databricks.v1+output": {
       "addedWidgets": {},
       "arguments": {},
       "data": "+---+------+---------+-----------+------------+--------------+---------+---------------+----------------+--------------+-------------------+-------------+----------------------+---------+----------+------------+-------+-------------+--------------+------------+-----------------+-----------+--------------------+--------------+---------------+-----------------+------------+------------------+-------------------+-----------------+----------------------+----------------+-------------------------+\n|NUM|    ID|DIAGNOSIS|MEAN_RADIUS|MEAN_TEXTURE|MEAN_PERIMETER|MEAN_AREA|MEAN_SMOOTHNESS|MEAN_COMPACTNESS|MEAN_CONCAVITY|MEAN_CONCAVE_POINTS|MEAN_SYMMETRY|MEAN_FRACTAL_DIMENSION|SE_RADIUS|SE_TEXTURE|SE_PERIMETER|SE_AREA|SE_SMOOTHNESS|SE_COMPACTNESS|SE_CONCAVITY|SE_CONCAVE_POINTS|SE_SYMMETRY|SE_FRACTAL_DIMENSION|LARGEST_RADIUS|LARGEST_TEXTURE|LARGEST_PERIMETER|LARGEST_AREA|LARGEST_SMOOTHNESS|LARGEST_COMPACTNESS|LARGEST_CONCAVITY|LARGEST_CONCAVE_POINTS|LARGEST_SYMMETRY|LARGEST_FRACTAL_DIMENSION|\n+---+------+---------+-----------+------------+--------------+---------+---------------+----------------+--------------+-------------------+-------------+----------------------+---------+----------+------------+-------+-------------+--------------+------------+-----------------+-----------+--------------------+--------------+---------------+-----------------+------------+------------------+-------------------+-----------------+----------------------+----------------+-------------------------+\n|200|877501|        0|         12|          20|            79|      461|              0|               0|             0|                  0|            0|                     0|        0|         1|           2|     27|            0|             0|           0|                0|          0|                   0|            14|             28|               92|         638|                 0|                  0|                0|                     0|               0|                        0|\n|201|877989|        1|         18|          19|           115|      952|              0|               0|             0|                  0|            0|                     0|        0|         1|           3|     41|            0|             0|           0|                0|          0|                   0|            20|             26|              140|        1239|                 0|                  0|                0|                     0|               0|                        0|\n|202|878796|        1|         23|          27|           159|     1685|              0|               0|             0|                  0|            0|                     0|        1|         2|           5|     83|            0|             0|           0|                0|          0|                   0|            25|             33|              177|        1986|                 0|                  0|                1|                     0|               0|                        0|\n|203| 87880|        1|         14|          24|            92|      598|              0|               0|             0|                  0|            0|                     0|        1|         2|           4|     53|            0|             0|           0|                0|          0|                   0|            19|             42|              129|        1153|                 0|                  1|                0|                     0|               0|                        0|\n|204| 87930|        0|         12|          19|            81|      482|              0|               0|             0|                  0|            0|                     0|        0|         1|           2|     30|            0|             0|           0|                0|          0|                   0|            15|             25|               96|         678|                 0|                  0|                0|                     0|               0|                        0|\n+---+------+---------+-----------+------------+--------------+---------+---------------+----------------+--------------+-------------------+-------------+----------------------+---------+----------+------------+-------+-------------+--------------+------------+-----------------+-----------+--------------------+--------------+---------------+-----------------+------------+------------------+-------------------+-----------------+----------------------+----------------+-------------------------+\nonly showing top 5 rows\n\n",
       "datasetInfos": [],
       "metadata": {},
       "removedWidgets": [],
       "type": "ansi"
      }
     },
     "output_type": "display_data"
    }
   ],
   "source": [
    "# import data from Snowflake (Snowpipe)\n",
    "wdbc = spark.read \\\n",
    "  .format(\"snowflake\") \\\n",
    "  .options(**options) \\\n",
    "  .option(\"dbtable\", \"wdbc\") \\\n",
    "  .load()\n",
    " \n",
    "wdbc.show(n=5, truncate=True, vertical=False)"
   ]
  },
  {
   "cell_type": "markdown",
   "metadata": {
    "application/vnd.databricks.v1+cell": {
     "inputWidgets": {},
     "nuid": "1e2eed8e-e986-4dca-bae4-2d9581fd13e7",
     "showTitle": false,
     "title": ""
    }
   },
   "source": [
    "## Preprocessing <a name=\"prep\"></a>"
   ]
  },
  {
   "cell_type": "code",
   "execution_count": 0,
   "metadata": {
    "application/vnd.databricks.v1+cell": {
     "inputWidgets": {},
     "nuid": "951fbff3-e832-4928-b235-49b4f609d750",
     "showTitle": false,
     "title": ""
    }
   },
   "outputs": [
    {
     "data": {
      "text/plain": [
       "(569, 31)\n"
      ]
     },
     "metadata": {
      "application/vnd.databricks.v1+output": {
       "addedWidgets": {},
       "arguments": {},
       "data": "(569, 31)\n",
       "datasetInfos": [],
       "metadata": {},
       "removedWidgets": [],
       "type": "ansi"
      }
     },
     "output_type": "display_data"
    }
   ],
   "source": [
    "# Drop unnecessary columns\n",
    "wdbc = wdbc.orderBy((\"NUM\")).drop('NUM','ID')\n",
    "print((wdbc.count(), len(wdbc.columns)))"
   ]
  },
  {
   "cell_type": "code",
   "execution_count": 0,
   "metadata": {
    "application/vnd.databricks.v1+cell": {
     "inputWidgets": {},
     "nuid": "bc969172-3226-41e0-848d-65499fe8b978",
     "showTitle": false,
     "title": ""
    }
   },
   "outputs": [
    {
     "data": {
      "text/plain": [
       "+--------------------+---------+\n",
       "|            features|DIAGNOSIS|\n",
       "+--------------------+---------+\n",
       "|(30,[0,1,2,3,10,1...|        1|\n",
       "|(30,[0,1,2,3,10,1...|        1|\n",
       "|(30,[0,1,2,3,10,1...|        1|\n",
       "+--------------------+---------+\n",
       "only showing top 3 rows\n",
       "\n"
      ]
     },
     "metadata": {
      "application/vnd.databricks.v1+output": {
       "addedWidgets": {},
       "arguments": {},
       "data": "+--------------------+---------+\n|            features|DIAGNOSIS|\n+--------------------+---------+\n|(30,[0,1,2,3,10,1...|        1|\n|(30,[0,1,2,3,10,1...|        1|\n|(30,[0,1,2,3,10,1...|        1|\n+--------------------+---------+\nonly showing top 3 rows\n\n",
       "datasetInfos": [],
       "metadata": {},
       "removedWidgets": [],
       "type": "ansi"
      }
     },
     "output_type": "display_data"
    }
   ],
   "source": [
    "# Feature engineering for Spark MLlib\n",
    "\n",
    "target = 'DIAGNOSIS'\n",
    "features = wdbc.schema.names\n",
    "features.remove(target)\n",
    "\n",
    "va = VectorAssembler(inputCols=features, outputCol='features')\n",
    "\n",
    "va_df = va.transform(wdbc)\n",
    "va_df = va_df.select(['features', target])\n",
    "va_df.show(3)"
   ]
  },
  {
   "cell_type": "markdown",
   "metadata": {
    "application/vnd.databricks.v1+cell": {
     "inputWidgets": {},
     "nuid": "0ea6f20b-c102-47f7-bb67-d50d17344f42",
     "showTitle": false,
     "title": ""
    }
   },
   "source": [
    "## Modeling, Prediction, and Evaluation <a name=\"model\"></a>"
   ]
  },
  {
   "cell_type": "code",
   "execution_count": 0,
   "metadata": {
    "application/vnd.databricks.v1+cell": {
     "inputWidgets": {},
     "nuid": "a4e65263-c3bc-441d-866a-3831d73f7e94",
     "showTitle": false,
     "title": ""
    }
   },
   "outputs": [
    {
     "data": {
      "text/plain": [
       "+--------------------+---------+--------------------+--------------------+----------+\n",
       "|            features|DIAGNOSIS|       rawPrediction|         probability|prediction|\n",
       "+--------------------+---------+--------------------+--------------------+----------+\n",
       "|(30,[0,1,2,3,10,1...|        0|[1.31731406833674...|[0.93305720958827...|       0.0|\n",
       "|(30,[0,1,2,3,10,1...|        0|[1.31731406833674...|[0.93305720958827...|       0.0|\n",
       "|(30,[0,1,2,3,10,1...|        0|[1.31731406833674...|[0.93305720958827...|       0.0|\n",
       "+--------------------+---------+--------------------+--------------------+----------+\n",
       "only showing top 3 rows\n",
       "\n"
      ]
     },
     "metadata": {
      "application/vnd.databricks.v1+output": {
       "addedWidgets": {},
       "arguments": {},
       "data": "+--------------------+---------+--------------------+--------------------+----------+\n|            features|DIAGNOSIS|       rawPrediction|         probability|prediction|\n+--------------------+---------+--------------------+--------------------+----------+\n|(30,[0,1,2,3,10,1...|        0|[1.31731406833674...|[0.93305720958827...|       0.0|\n|(30,[0,1,2,3,10,1...|        0|[1.31731406833674...|[0.93305720958827...|       0.0|\n|(30,[0,1,2,3,10,1...|        0|[1.31731406833674...|[0.93305720958827...|       0.0|\n+--------------------+---------+--------------------+--------------------+----------+\nonly showing top 3 rows\n\n",
       "datasetInfos": [],
       "metadata": {},
       "removedWidgets": [],
       "type": "ansi"
      }
     },
     "output_type": "display_data"
    }
   ],
   "source": [
    "# Train/test split\n",
    "(train, test) = va_df.randomSplit([0.7, 0.3])\n",
    "\n",
    "\n",
    "# Modeling and prediction\n",
    "gbt = GBTClassifier(featuresCol='features', labelCol=target, maxIter=10)\n",
    "gbtmodel = gbt.fit(train)\n",
    "pred = gbtmodel.transform(test)\n",
    "pred.show(3)"
   ]
  },
  {
   "cell_type": "code",
   "execution_count": 0,
   "metadata": {
    "application/vnd.databricks.v1+cell": {
     "inputWidgets": {},
     "nuid": "c0af39f0-3796-40e1-b997-d7346ea513d5",
     "showTitle": false,
     "title": ""
    }
   },
   "outputs": [
    {
     "data": {
      "text/plain": [
       "Accuracy:  0.93\n"
      ]
     },
     "metadata": {
      "application/vnd.databricks.v1+output": {
       "addedWidgets": {},
       "arguments": {},
       "data": "Accuracy:  0.93\n",
       "datasetInfos": [],
       "metadata": {},
       "removedWidgets": [],
       "type": "ansi"
      }
     },
     "output_type": "display_data"
    }
   ],
   "source": [
    "# Model evaluation\n",
    "\n",
    "evaluator = MulticlassClassificationEvaluator(\n",
    "    labelCol=target, predictionCol=\"prediction\", metricName=\"accuracy\")\n",
    "accuracy = evaluator.evaluate(pred)\n",
    "\n",
    "print(\"Accuracy: \", round(accuracy,2))"
   ]
  }
 ],
 "metadata": {
  "application/vnd.databricks.v1+notebook": {
   "dashboards": [],
   "language": "python",
   "notebookMetadata": {
    "pythonIndentUnit": 4
   },
   "notebookName": "Streaming data analysis",
   "notebookOrigID": 1639260233790897,
   "widgets": {}
  },
  "kernelspec": {
   "display_name": "Python 3 (ipykernel)",
   "language": "python",
   "name": "python3"
  },
  "language_info": {
   "codemirror_mode": {
    "name": "ipython",
    "version": 3
   },
   "file_extension": ".py",
   "mimetype": "text/x-python",
   "name": "python",
   "nbconvert_exporter": "python",
   "pygments_lexer": "ipython3",
   "version": "3.8.13"
  },
  "toc": {
   "base_numbering": 1,
   "nav_menu": {},
   "number_sections": true,
   "sideBar": true,
   "skip_h1_title": false,
   "title_cell": "Table of Contents",
   "title_sidebar": "Contents",
   "toc_cell": false,
   "toc_position": {},
   "toc_section_display": true,
   "toc_window_display": false
  },
  "varInspector": {
   "cols": {
    "lenName": 16,
    "lenType": 16,
    "lenVar": 40
   },
   "kernels_config": {
    "python": {
     "delete_cmd_postfix": "",
     "delete_cmd_prefix": "del ",
     "library": "var_list.py",
     "varRefreshCmd": "print(var_dic_list())"
    },
    "r": {
     "delete_cmd_postfix": ") ",
     "delete_cmd_prefix": "rm(",
     "library": "var_list.r",
     "varRefreshCmd": "cat(var_dic_list()) "
    }
   },
   "types_to_exclude": [
    "module",
    "function",
    "builtin_function_or_method",
    "instance",
    "_Feature"
   ],
   "window_display": false
  }
 },
 "nbformat": 4,
 "nbformat_minor": 1
}
